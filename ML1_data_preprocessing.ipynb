{
  "nbformat": 4,
  "nbformat_minor": 0,
  "metadata": {
    "accelerator": "TPU",
    "colab": {
      "name": "ML1 data_preprocessing.ipynb",
      "provenance": [],
      "collapsed_sections": [],
      "include_colab_link": true
    },
    "kernelspec": {
      "display_name": "Python 3",
      "name": "python3"
    },
    "language_info": {
      "name": "python"
    }
  },
  "cells": [
    {
      "cell_type": "markdown",
      "metadata": {
        "id": "view-in-github",
        "colab_type": "text"
      },
      "source": [
        "<a href=\"https://colab.research.google.com/github/zainali60/ML/blob/main/ML1_data_preprocessing.ipynb\" target=\"_parent\"><img src=\"https://colab.research.google.com/assets/colab-badge.svg\" alt=\"Open In Colab\"/></a>"
      ]
    },
    {
      "cell_type": "code",
      "metadata": {
        "id": "N1sb61c2Qk5p"
      },
      "source": [
        "import numpy as np\n",
        "import pandas as pd\n"
      ],
      "execution_count": null,
      "outputs": []
    },
    {
      "cell_type": "code",
      "metadata": {
        "colab": {
          "base_uri": "https://localhost:8080/",
          "height": 204
        },
        "id": "es0iNOo9QrLD",
        "outputId": "2030ba59-7e35-4313-f370-5bc13bdd4831"
      },
      "source": [
        "data = pd.read_csv(\"/content/DataSet.csv\")\n",
        "data.head()"
      ],
      "execution_count": null,
      "outputs": [
        {
          "output_type": "execute_result",
          "data": {
            "text/html": [
              "<div>\n",
              "<style scoped>\n",
              "    .dataframe tbody tr th:only-of-type {\n",
              "        vertical-align: middle;\n",
              "    }\n",
              "\n",
              "    .dataframe tbody tr th {\n",
              "        vertical-align: top;\n",
              "    }\n",
              "\n",
              "    .dataframe thead th {\n",
              "        text-align: right;\n",
              "    }\n",
              "</style>\n",
              "<table border=\"1\" class=\"dataframe\">\n",
              "  <thead>\n",
              "    <tr style=\"text-align: right;\">\n",
              "      <th></th>\n",
              "      <th>Developer</th>\n",
              "      <th>Age</th>\n",
              "      <th>Salary</th>\n",
              "      <th>Married</th>\n",
              "    </tr>\n",
              "  </thead>\n",
              "  <tbody>\n",
              "    <tr>\n",
              "      <th>0</th>\n",
              "      <td>Karachi</td>\n",
              "      <td>42.0</td>\n",
              "      <td>78000.0</td>\n",
              "      <td>No</td>\n",
              "    </tr>\n",
              "    <tr>\n",
              "      <th>1</th>\n",
              "      <td>Lahore</td>\n",
              "      <td>32.0</td>\n",
              "      <td>48000.0</td>\n",
              "      <td>Yes</td>\n",
              "    </tr>\n",
              "    <tr>\n",
              "      <th>2</th>\n",
              "      <td>Karachi</td>\n",
              "      <td>36.0</td>\n",
              "      <td>60000.0</td>\n",
              "      <td>No</td>\n",
              "    </tr>\n",
              "    <tr>\n",
              "      <th>3</th>\n",
              "      <td>Multan</td>\n",
              "      <td>41.0</td>\n",
              "      <td>68000.0</td>\n",
              "      <td>No</td>\n",
              "    </tr>\n",
              "    <tr>\n",
              "      <th>4</th>\n",
              "      <td>Lahore</td>\n",
              "      <td>42.0</td>\n",
              "      <td>NaN</td>\n",
              "      <td>Yes</td>\n",
              "    </tr>\n",
              "  </tbody>\n",
              "</table>\n",
              "</div>"
            ],
            "text/plain": [
              "  Developer   Age   Salary Married\n",
              "0   Karachi  42.0  78000.0      No\n",
              "1    Lahore  32.0  48000.0     Yes\n",
              "2   Karachi  36.0  60000.0      No\n",
              "3    Multan  41.0  68000.0      No\n",
              "4    Lahore  42.0      NaN     Yes"
            ]
          },
          "metadata": {},
          "execution_count": 3
        }
      ]
    },
    {
      "cell_type": "code",
      "metadata": {
        "colab": {
          "base_uri": "https://localhost:8080/"
        },
        "id": "WvQsc5fkRF9B",
        "outputId": "9bc686da-f700-484e-f4f1-423411a76fde"
      },
      "source": [
        "data.shape"
      ],
      "execution_count": null,
      "outputs": [
        {
          "output_type": "execute_result",
          "data": {
            "text/plain": [
              "(10, 4)"
            ]
          },
          "metadata": {},
          "execution_count": 4
        }
      ]
    },
    {
      "cell_type": "code",
      "metadata": {
        "colab": {
          "base_uri": "https://localhost:8080/"
        },
        "id": "XAIw4yO7Xamw",
        "outputId": "97277c06-d7ec-4d6c-ca70-3154b80609b9"
      },
      "source": [
        "data.info()"
      ],
      "execution_count": null,
      "outputs": [
        {
          "output_type": "stream",
          "text": [
            "<class 'pandas.core.frame.DataFrame'>\n",
            "RangeIndex: 10 entries, 0 to 9\n",
            "Data columns (total 4 columns):\n",
            " #   Column     Non-Null Count  Dtype  \n",
            "---  ------     --------------  -----  \n",
            " 0   Developer  10 non-null     object \n",
            " 1   Age        9 non-null      float64\n",
            " 2   Salary     9 non-null      float64\n",
            " 3   Married    10 non-null     object \n",
            "dtypes: float64(2), object(2)\n",
            "memory usage: 448.0+ bytes\n"
          ],
          "name": "stdout"
        }
      ]
    },
    {
      "cell_type": "code",
      "metadata": {
        "colab": {
          "base_uri": "https://localhost:8080/"
        },
        "id": "fTuagemoRIOB",
        "outputId": "34cd2913-114c-433e-aa08-6af534b9ae5c"
      },
      "source": [
        "data.isnull().sum()"
      ],
      "execution_count": null,
      "outputs": [
        {
          "output_type": "execute_result",
          "data": {
            "text/plain": [
              "Developer    0\n",
              "Age          1\n",
              "Salary       1\n",
              "Married      0\n",
              "dtype: int64"
            ]
          },
          "metadata": {},
          "execution_count": 6
        }
      ]
    },
    {
      "cell_type": "code",
      "metadata": {
        "colab": {
          "base_uri": "https://localhost:8080/"
        },
        "id": "Ddzck8l9WQCh",
        "outputId": "6de0aadd-a0d0-4557-83d2-38878dfc3029"
      },
      "source": [
        "numerical_data = data.select_dtypes(['float64','int64']).columns\n",
        "data[numerical_data] = data[numerical_data].fillna(data[numerical_data].mean())\n",
        "data[numerical_data].mean()"
      ],
      "execution_count": null,
      "outputs": [
        {
          "output_type": "execute_result",
          "data": {
            "text/plain": [
              "Age          40.444444\n",
              "Salary    68777.777778\n",
              "dtype: float64"
            ]
          },
          "metadata": {},
          "execution_count": 7
        }
      ]
    },
    {
      "cell_type": "code",
      "metadata": {
        "colab": {
          "base_uri": "https://localhost:8080/"
        },
        "id": "fexxeKWuYPvI",
        "outputId": "b24de743-7691-485b-d043-ab806321ec63"
      },
      "source": [
        "data.isnull().sum()"
      ],
      "execution_count": null,
      "outputs": [
        {
          "output_type": "execute_result",
          "data": {
            "text/plain": [
              "Developer    0\n",
              "Age          0\n",
              "Salary       0\n",
              "Married      0\n",
              "dtype: int64"
            ]
          },
          "metadata": {},
          "execution_count": 8
        }
      ]
    },
    {
      "cell_type": "code",
      "metadata": {
        "id": "eLh-_QdCRQVR"
      },
      "source": [
        "X=data.iloc[:,:-1].values\n",
        "y=data.iloc[:,3].values"
      ],
      "execution_count": null,
      "outputs": []
    },
    {
      "cell_type": "code",
      "metadata": {
        "colab": {
          "base_uri": "https://localhost:8080/"
        },
        "id": "_RuGWY5GfvJi",
        "outputId": "bec1c02f-6e0e-422d-a9e9-88d8c7215cf1"
      },
      "source": [
        "X.shape"
      ],
      "execution_count": null,
      "outputs": [
        {
          "output_type": "execute_result",
          "data": {
            "text/plain": [
              "(10, 3)"
            ]
          },
          "metadata": {},
          "execution_count": 10
        }
      ]
    },
    {
      "cell_type": "code",
      "metadata": {
        "id": "HmMn5t36SjnA"
      },
      "source": [
        "from sklearn.preprocessing import LabelEncoder, OneHotEncoder\n",
        "from sklearn.compose import ColumnTransformer\n",
        "\n",
        "labelencoder_X = LabelEncoder()\n",
        "\n",
        "X[:,0]=labelencoder_X.fit_transform(X[:,0])\n",
        "\n",
        "columnTransformer = ColumnTransformer([('encoder', OneHotEncoder(), [0])],     remainder='passthrough')\n",
        "X=np.array(columnTransformer.fit_transform(X),dtype=np.str)\n",
        "\n",
        "#onehotencoder=OneHotEncoder(categorical_features =[0])\n",
        "\n",
        "#X=onehotencoder.fit_transform(X).toarray()"
      ],
      "execution_count": null,
      "outputs": []
    },
    {
      "cell_type": "code",
      "metadata": {
        "colab": {
          "base_uri": "https://localhost:8080/"
        },
        "id": "N69hHI9man3u",
        "outputId": "9cdf0937-7d31-4b7b-8520-866e47080c46"
      },
      "source": [
        "X"
      ],
      "execution_count": null,
      "outputs": [
        {
          "output_type": "execute_result",
          "data": {
            "text/plain": [
              "array([['1.0', '0.0', '0.0', '42.0', '78000.0'],\n",
              "       ['0.0', '1.0', '0.0', '32.0', '48000.0'],\n",
              "       ['1.0', '0.0', '0.0', '36.0', '60000.0'],\n",
              "       ['0.0', '0.0', '1.0', '41.0', '68000.0'],\n",
              "       ['0.0', '1.0', '0.0', '42.0', '68777.77777777778'],\n",
              "       ['0.0', '0.0', '1.0', '43.0', '59000.0'],\n",
              "       ['1.0', '0.0', '0.0', '40.44444444444444', '59000.0'],\n",
              "       ['0.0', '1.0', '0.0', '44.0', '79000.0'],\n",
              "       ['0.0', '0.0', '1.0', '52.0', '99000.0'],\n",
              "       ['0.0', '1.0', '0.0', '32.0', '69000.0']], dtype='<U17')"
            ]
          },
          "metadata": {},
          "execution_count": 12
        }
      ]
    },
    {
      "cell_type": "code",
      "metadata": {
        "id": "LQGdCokmX8Ds"
      },
      "source": [
        "#from sklearn import preprocessing\n",
        "#le = preprocessing.LabelEncoder()\n",
        "\n",
        "\n",
        "# 2/3. FIT AND TRANSFORM\n",
        "# use df.apply() to apply le.fit_transform to all columns\n",
        "#data = data.apply(le.fit_transform)\n",
        "#data.head()"
      ],
      "execution_count": null,
      "outputs": []
    },
    {
      "cell_type": "code",
      "metadata": {
        "id": "TT19FFNIY3Ks"
      },
      "source": [
        "from sklearn.model_selection import train_test_split\n",
        "x_train, x_test, y_train, y_test = train_test_split(X,y, test_size = 0.30, random_state=42)"
      ],
      "execution_count": null,
      "outputs": []
    },
    {
      "cell_type": "code",
      "metadata": {
        "id": "P30Z7cF5qWmK"
      },
      "source": [
        "#Standard and fit the data for better predication \n",
        "\n",
        "from sklearn.preprocessing import StandardScaler\n",
        "\n",
        "sc_X=StandardScaler()\n",
        "\n",
        "x_test=sc_X.fit_transform(x_test)\n",
        "x_train=sc_X.fit_transform(x_train)\n"
      ],
      "execution_count": null,
      "outputs": []
    },
    {
      "cell_type": "code",
      "metadata": {
        "id": "4tEyk8_YhRgV",
        "colab": {
          "base_uri": "https://localhost:8080/"
        },
        "outputId": "9dfc9590-7ea1-4cee-8057-922cccd4659c"
      },
      "source": [
        "x_train"
      ],
      "execution_count": null,
      "outputs": [
        {
          "output_type": "execute_result",
          "data": {
            "text/plain": [
              "array([[ 1.15470054, -0.8660254 , -0.40824829,  0.61281079,  1.27432774],\n",
              "       [-0.8660254 ,  1.15470054, -0.40824829,  1.13102662,  1.41322505],\n",
              "       [ 1.15470054, -0.8660254 , -0.40824829, -0.94183671, -1.22582391],\n",
              "       [-0.8660254 ,  1.15470054, -0.40824829, -1.97826838,  0.02425191],\n",
              "       [-0.8660254 ,  1.15470054, -0.40824829,  0.61281079, -0.00661416],\n",
              "       [-0.8660254 , -0.8660254 ,  2.44948974,  0.35370287, -0.1146454 ],\n",
              "       [ 1.15470054, -0.8660254 , -0.40824829,  0.20975403, -1.36472123]])"
            ]
          },
          "metadata": {},
          "execution_count": 16
        }
      ]
    },
    {
      "cell_type": "code",
      "metadata": {
        "id": "FP7DS9RtvULK"
      },
      "source": [
        ""
      ],
      "execution_count": null,
      "outputs": []
    }
  ]
}